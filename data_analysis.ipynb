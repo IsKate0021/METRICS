{
  "cells": [
    {
      "cell_type": "markdown",
      "metadata": {},
      "source": [
        "To install matplotlib\n",
        "\n",
        "import sys  \n",
        "!{sys.executable} -m pip install matplotlib"
      ]
    },
    {
      "cell_type": "code",
      "execution_count": 17,
      "metadata": {
        "trusted": true
      },
      "outputs": [],
      "source": [
        "import pandas as pd\n",
        "import matplotlib.pyplot as plt\n",
        "df = pd.read_csv('test_data.csv')\n",
        "data = pd.read_csv('C:\\\\projects\\\\ad_metrics_test\\\\test_data.csv', thousands=',', decimal='.')\n",
        "\n",
        "revenue_columns = ['Spend','Revenue_in_app1d', 'Revenue_in_app7d', 'Revenue_in_app30d', 'Revenue_ad1d']\n",
        "for col in revenue_columns:\n",
        "    df[col] = df[col].str.replace(',', '').str.replace('\"', '').astype(float)\n"
      ]
    },
    {
      "cell_type": "markdown",
      "metadata": {},
      "source": [
        "CPI (3 кампании, которые затрачивают меньше средств на привлечение каждой установки)"
      ]
    },
    {
      "cell_type": "code",
      "execution_count": 18,
      "metadata": {},
      "outputs": [
        {
          "data": {
            "text/plain": [
              "81    0.145833\n",
              "55    0.273413\n",
              "64    1.102767\n",
              "Name: CPI, dtype: float64"
            ]
          },
          "execution_count": 18,
          "metadata": {},
          "output_type": "execute_result"
        }
      ],
      "source": [
        "df['CPI'] = df['Spend'] / df['Installs']\n",
        "df['CPI'].sort_values(ascending=True).head(3)"
      ]
    },
    {
      "cell_type": "markdown",
      "metadata": {},
      "source": [
        "CPC (3 кампании,которые тратят меньше средств на привлечение каждого клика)"
      ]
    },
    {
      "cell_type": "code",
      "execution_count": 19,
      "metadata": {},
      "outputs": [
        {
          "data": {
            "text/plain": [
              "81    0.068182\n",
              "55    0.123369\n",
              "64    0.508197\n",
              "Name: CPC, dtype: float64"
            ]
          },
          "execution_count": 19,
          "metadata": {},
          "output_type": "execute_result"
        }
      ],
      "source": [
        "df['CPC'] = df['Spend'] / df['Clicks']\n",
        "df['CPC'].sort_values(ascending=True).head(3)"
      ]
    },
    {
      "cell_type": "markdown",
      "metadata": {},
      "source": [
        "CTR (3 кампании с более высоким уровнем вовлеченности и реакции аудитории на рекламу)"
      ]
    },
    {
      "cell_type": "code",
      "execution_count": 20,
      "metadata": {},
      "outputs": [
        {
          "data": {
            "text/plain": [
              "23    7.936193\n",
              "52    6.461992\n",
              "46    5.638322\n",
              "Name: CTR, dtype: float64"
            ]
          },
          "execution_count": 20,
          "metadata": {},
          "output_type": "execute_result"
        }
      ],
      "source": [
        "df['CTR'] = df['Clicks'] / df['Impressions'] * 100\n",
        "df['CTR'].sort_values(ascending=False).head(3)"
      ]
    },
    {
      "cell_type": "markdown",
      "metadata": {},
      "source": [
        "CR (3 кампании с более высоким CR (число установок к числу кликов)) "
      ]
    },
    {
      "cell_type": "code",
      "execution_count": 21,
      "metadata": {},
      "outputs": [
        {
          "data": {
            "text/plain": [
              "67    61.538462\n",
              "12    60.853199\n",
              "13    60.359444\n",
              "Name: CR, dtype: float64"
            ]
          },
          "execution_count": 21,
          "metadata": {},
          "output_type": "execute_result"
        }
      ],
      "source": [
        "df['CR'] = df['Installs'] / df['Clicks']  * 100\n",
        "df['CR'].sort_values(ascending=False).head(3)"
      ]
    },
    {
      "cell_type": "markdown",
      "metadata": {},
      "source": [
        "ROI (3 капмании с более высоким ROI (Отношение прибыли к затратам на рекламу на первый день их жизни))"
      ]
    },
    {
      "cell_type": "code",
      "execution_count": 22,
      "metadata": {},
      "outputs": [
        {
          "data": {
            "text/plain": [
              "81    1.763441e+07\n",
              "29    9.559874e+06\n",
              "46    1.913464e+06\n",
              "Name: ROI, dtype: float64"
            ]
          },
          "execution_count": 22,
          "metadata": {},
          "output_type": "execute_result"
        }
      ],
      "source": [
        "df['ROI'] = df['Revenue_ad1d'] / df['Spend']  * 100\n",
        "df['ROI'].sort_values(ascending=False).head(3)"
      ]
    },
    {
      "cell_type": "markdown",
      "metadata": {},
      "source": [
        "ARPU  (Средняя выручка с одного пользователя на первый день, 3 кампании с большей выручкой с одного пользователя)"
      ]
    },
    {
      "cell_type": "code",
      "execution_count": 23,
      "metadata": {},
      "outputs": [
        {
          "data": {
            "text/plain": [
              "4    4.757500e+08\n",
              "8    4.188333e+08\n",
              "0    2.534688e+08\n",
              "Name: ARPU, dtype: float64"
            ]
          },
          "execution_count": 23,
          "metadata": {},
          "output_type": "execute_result"
        }
      ],
      "source": [
        "df['ARPU'] = df['Revenue_in_app1d'] / df['Payers1d']  * 100\n",
        "df['ARPU'].sort_values(ascending=False).head(3)"
      ]
    },
    {
      "cell_type": "markdown",
      "metadata": {},
      "source": [
        "Cost per Conversion (3 кампании с меньшей стоимостью привлечения каждой регистрации)"
      ]
    },
    {
      "cell_type": "code",
      "execution_count": 24,
      "metadata": {},
      "outputs": [
        {
          "data": {
            "text/plain": [
              "81    0.338710\n",
              "55    0.511163\n",
              "29    2.973970\n",
              "Name: Cost_per_Conversion_r, dtype: float64"
            ]
          },
          "execution_count": 24,
          "metadata": {},
          "output_type": "execute_result"
        }
      ],
      "source": [
        "df['Cost_per_Conversion_r'] = df['Spend'] / df['Registrations']\n",
        "df['Cost_per_Conversion_r'].sort_values(ascending=True).head(3)"
      ]
    },
    {
      "cell_type": "markdown",
      "metadata": {},
      "source": [
        "Группируем данные по байерам и суммируем затраты и создаем график"
      ]
    },
    {
      "cell_type": "code",
      "execution_count": 25,
      "metadata": {},
      "outputs": [
        {
          "data": {
            "image/png": "[encoded data removed]",
            "text/plain": [
              "<Figure size 1200x600 with 1 Axes>"
            ]
          },
          "metadata": {},
          "output_type": "display_data"
        }
      ],
      "source": [
        "spend_by_buyer = data.groupby('Buyer')['Spend'].sum()\n",
        "\n",
        "plt.figure(figsize=(12, 6))\n",
        "spend_by_buyer.plot(kind='bar', color='skyblue')\n",
        "plt.title('Затраты по байерам')\n",
        "plt.xlabel('Байер')\n",
        "plt.ylabel('Затраты')\n",
        "plt.xticks(rotation=45)\n",
        "plt.show()"
      ]
    }
  ],
  "metadata": {
    "kernelspec": {
      "display_name": "Python 3",
      "language": "python",
      "name": "python3"
    },
    "language_info": {
      "codemirror_mode": {
        "name": "ipython",
        "version": 3
      },
      "file_extension": ".py",
      "mimetype": "text/x-python",
      "name": "python",
      "nbconvert_exporter": "python",
      "pygments_lexer": "ipython3",
      "version": "3.9.8"
    }
  },
  "nbformat": 4,
  "nbformat_minor": 4
}
